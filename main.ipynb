{
 "cells": [
  {
   "cell_type": "code",
   "execution_count": 281,
   "metadata": {},
   "outputs": [],
   "source": [
    "import pandas as pd\n",
    "from pathlib import Path"
   ]
  },
  {
   "cell_type": "code",
   "execution_count": 282,
   "metadata": {},
   "outputs": [],
   "source": [
    "def get_data(type_data: str) -> pd.DataFrame:\n",
    "    file_path = Path().parent / f'data/{type_data}.csv'\n",
    "\n",
    "    return pd.read_csv(file_path)"
   ]
  },
  {
   "cell_type": "code",
   "execution_count": 283,
   "metadata": {},
   "outputs": [],
   "source": [
    "data = get_data(\"train\")"
   ]
  },
  {
   "cell_type": "code",
   "execution_count": 284,
   "metadata": {},
   "outputs": [],
   "source": [
    "def to_numerical(column: pd.Series) -> pd.Series:\n",
    "    unique_values = column.dropna().unique()  \n",
    "    mapping = {value: idx for idx, value in enumerate(unique_values, 1)}\n",
    "\n",
    "    return column.map(mapping)"
   ]
  },
  {
   "cell_type": "code",
   "execution_count": 285,
   "metadata": {},
   "outputs": [],
   "source": [
    "def preprocess_data(data: pd.DataFrame) -> pd.DataFrame:\n",
    "    categorical_columns = [\n",
    "        \"has_pool\",\n",
    "        \"orientation\",\n",
    "        \"is_furnished\",\n",
    "        \"accepts_pets\",\n",
    "        \"has_ac\",\n",
    "        \"neighborhood\"\n",
    "    ]\n",
    "\n",
    "    for column in categorical_columns:\n",
    "        data[column] = to_numerical(column=data[column])\n",
    "\n",
    "    data[\"door_a\"], data[\"door_b\"] = zip(*data[\"door\"].apply(lambda x: x.split(\" - \") if isinstance(x, str) else (float(\"nan\"), float(\"nan\"))))\n",
    "\n",
    "    data[\"door_a\"] = to_numerical(data[\"door_a\"])\n",
    "    data[\"door_b\"] = to_numerical(data[\"door_b\"])\n",
    "\n",
    "    data = data.drop(columns=[\"door\"])\n",
    "\n",
    "    interpolated_data = data.interpolate(method=\"linear\").ffill().bfill()\n",
    "    interpolated_data.isna().sum()\n",
    "\n",
    "    print(interpolated_data.isna().sum())\n",
    "\n",
    "    return interpolated_data\n"
   ]
  },
  {
   "cell_type": "code",
   "execution_count": 286,
   "metadata": {},
   "outputs": [
    {
     "name": "stdout",
     "output_type": "stream",
     "text": [
      "id                  0\n",
      "num_rooms           0\n",
      "num_baths           0\n",
      "square_meters       0\n",
      "orientation         0\n",
      "year_built          0\n",
      "is_furnished        0\n",
      "has_pool            0\n",
      "neighborhood        0\n",
      "num_crimes          0\n",
      "has_ac              0\n",
      "accepts_pets        0\n",
      "num_supermarkets    0\n",
      "price               0\n",
      "door_a              0\n",
      "door_b              0\n",
      "dtype: int64\n"
     ]
    },
    {
     "data": {
      "text/plain": [
       "(array([ 7.62339154e-05,  8.23437103e-01,  9.49561665e+00,  4.44750574e+00,\n",
       "        -6.73845355e-01, -3.25014854e-02,  2.76519964e+00,  5.52186904e+00,\n",
       "        -2.75706423e-02, -2.19765842e+01, -5.64376455e+00, -5.28048194e-02,\n",
       "         1.26235237e+00,  3.30838565e+00, -1.99114694e+00]),\n",
       " 705.8186574391548)"
      ]
     },
     "execution_count": 286,
     "metadata": {},
     "output_type": "execute_result"
    }
   ],
   "source": [
    "from sklearn.linear_model import LinearRegression\n",
    "\n",
    "data = preprocess_data(data=data)\n",
    "\n",
    "X = data.drop(columns=[\"price\"])\n",
    "y = data[\"price\"]\n",
    "\n",
    "model = LinearRegression()\n",
    "\n",
    "model.fit(X, y)\n",
    "\n",
    "coefficients = model.coef_\n",
    "intercept = model.intercept_\n",
    "\n",
    "coefficients, intercept"
   ]
  },
  {
   "cell_type": "code",
   "execution_count": 287,
   "metadata": {},
   "outputs": [
    {
     "name": "stdout",
     "output_type": "stream",
     "text": [
      "2000\n",
      "id                  0\n",
      "num_rooms           0\n",
      "num_baths           0\n",
      "square_meters       0\n",
      "orientation         0\n",
      "year_built          0\n",
      "is_furnished        0\n",
      "has_pool            0\n",
      "neighborhood        0\n",
      "num_crimes          0\n",
      "has_ac              0\n",
      "accepts_pets        0\n",
      "num_supermarkets    0\n",
      "door_a              0\n",
      "door_b              0\n",
      "dtype: int64\n",
      "2000\n"
     ]
    }
   ],
   "source": [
    "from sklearn.metrics import mean_squared_error\n",
    "\n",
    "test_data = get_data(\"test\")\n",
    "print(len(test_data))\n",
    "test_data = preprocess_data(data=test_data)\n",
    "print(len(test_data))\n",
    "\n",
    "y_pred = model.predict(test_data)\n",
    "\n",
    "test_predictions_submit = pd.DataFrame({\"id\": test_data[\"id\"], \"price\": y_pred})\n",
    "test_predictions_submit.to_csv(\"test_predictions_submit.csv\", index = False)"
   ]
  }
 ],
 "metadata": {
  "kernelspec": {
   "display_name": "dsdm_ml_venv",
   "language": "python",
   "name": "python3"
  },
  "language_info": {
   "codemirror_mode": {
    "name": "ipython",
    "version": 3
   },
   "file_extension": ".py",
   "mimetype": "text/x-python",
   "name": "python",
   "nbconvert_exporter": "python",
   "pygments_lexer": "ipython3",
   "version": "3.12.2"
  }
 },
 "nbformat": 4,
 "nbformat_minor": 2
}
